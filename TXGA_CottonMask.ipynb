{
 "cells": [
  {
   "cell_type": "markdown",
   "id": "fa58261d-2c0a-4ab6-a21e-04e9dc39b308",
   "metadata": {},
   "source": [
    "# Texas and Georgia NASS districts Cotton Mask\n",
    "\n",
    "**Project:** Georgia and Texas Agriculture\n",
    "\n",
    "**Date:** 02/10/2025\n",
    "\n",
    "**Code Contact:** Henry Osei, henryoseipoku77@gmail.com\n",
    "\n",
    "**Inputs:** Shapefile with the boundaries of the NASS districts of interest. 2016 to 2023 crop sequence boundary (CSB) shapefile of Texas and Georgia\n",
    "\n",
    "**Outputs:** Shapefiles/geoparquet files of one cotton mask per district. An interactive map that shows the cotton mask of one of the Georgia districts.\n",
    "\n",
    "**Description:** This script creates a standardized cotton mask for the last decade (2015 to 2024) in Georgia and Texas NASS districts of interest. First, the shapefile for all crop cultivated areas in Texas and Georgia from 2016 to 2023 is converted into a geoparquet file. For each year and NASS district, cotton planted areas and extracted. Finally, for each district, all areas that cultivated cotton for at least two growing seasons from 2020 to 2023 are selected to create one cotton that shows areas that usually planted cotton the last decade.\n",
    "\n",
    "- NASS districts of interest: **Georgia**: GA-70, GA-80, GA-90; **Texas**: TX-12, TX-21, TX-22, TX-60, TX-70"
   ]
  },
  {
   "cell_type": "code",
   "execution_count": 1,
   "id": "9ead1f80-5d39-42cd-a199-35fa3803a314",
   "metadata": {
    "tags": []
   },
   "outputs": [],
   "source": [
    "# Import the necessary libraries\n",
    "import geopandas as gpd\n",
    "import os\n",
    "import glob\n",
    "import pandas as pd\n",
    "import folium\n",
    "\n",
    "#NB: Georparquet file format is used in this code, so you need to preinstall pyarrow before you can read and manipulate the geoparquet files"
   ]
  },
  {
   "cell_type": "code",
   "execution_count": 3,
   "id": "c7b69b22-fdbd-4fc8-b75a-778ed0360663",
   "metadata": {
    "tags": []
   },
   "outputs": [],
   "source": [
    "# base directory for all the input files\n",
    "# NB: On your computer, change this to the directory to the directory of the input files \n",
    "path= os.chdir('C:/TX_GA_CSB')"
   ]
  },
  {
   "cell_type": "markdown",
   "id": "1ca77770-8aa9-4de6-87ea-26213db173af",
   "metadata": {},
   "source": [
    "### PART A\n",
    "- Convert the shapefile to geoparquet for fast and easy manipulation of data.\n",
    " \n",
    "**NB:** Do not run this section if you already have the geoparquet file of the crop boundries in TX and GA."
   ]
  },
  {
   "cell_type": "code",
   "execution_count": null,
   "id": "79fe6344-9e91-4752-92cb-7e54a91a00c9",
   "metadata": {
    "tags": []
   },
   "outputs": [],
   "source": [
    "# read the Texas (TX) and Georgia (GA) crop field boundary shapefile into a geodataframe\n",
    "all_crops= gpd.read_file('2016_to_2023_WGS84.shp')\n",
    "\n",
    "# convert the geodataframe to a geoparquet\n",
    "all_crops.to_parquet('2016_to_2023_WGS84.geoparquet')"
   ]
  },
  {
   "cell_type": "markdown",
   "id": "71ac8f6b-f8cb-4159-9b26-589818725bd5",
   "metadata": {},
   "source": [
    "### PART B\n",
    "- Extract a cotton mask for each district and visualize one of them on an interactive map."
   ]
  },
  {
   "cell_type": "code",
   "execution_count": 4,
   "id": "7573917e-b9fd-4158-ba2f-91c1267cc3d6",
   "metadata": {
    "tags": []
   },
   "outputs": [],
   "source": [
    "# read the NASS districts shapefile and TXGA crop boundary data\n",
    "NASS_districts= gpd.read_file('NASSDistrictsofInterest_GeorgiaTexas.shp')\n",
    "TXGA_crops= gpd.read_parquet('2016_to_2023_WGS84.geoparquet')"
   ]
  },
  {
   "cell_type": "code",
   "execution_count": 5,
   "id": "7669d747-ae94-4c83-adfe-978aacd8ffe1",
   "metadata": {
    "tags": []
   },
   "outputs": [],
   "source": [
    "# --------------------------------\n",
    "# selects farm areas/polygons that cultivated cotton for at least two years from the 2020 to 2023 season\n",
    "# --------------------------------\n",
    "\n",
    "# NB: The crop data layer (CDL) code for cotton is 2\n",
    "# create a function that assigns 1 if a farm/polygon cultivated cotton at least twice in the given timeframe, and 0 if not\n",
    "def assign_cotton(row):\n",
    "    total_count = sum([row['CDL2020'] == 2, row['CDL2021'] == 2, row['CDL2022'] == 2, row['CDL2023'] == 2])\n",
    "    if total_count >= 2:\n",
    "        return 1\n",
    "    else:\n",
    "        return 0\n",
    "\n",
    "\n",
    "# apply the function to the TXGA_crops geodataframe and create a new column 'Cotton' to assign the cotton farms\n",
    "TXGA_crops['Cotton']= TXGA_crops.apply(assign_cotton, axis= 1)"
   ]
  },
  {
   "cell_type": "code",
   "execution_count": 34,
   "id": "ae99a530-a52f-48a2-aaee-ef46752d2c1c",
   "metadata": {
    "tags": []
   },
   "outputs": [],
   "source": [
    "# check the unique values in the 'Cotton' column to confirm if there are only 1's and 0's\n",
    "TXGA_crops['Cotton'].unique()"
   ]
  },
  {
   "cell_type": "code",
   "execution_count": 7,
   "id": "711d3e95-c66c-4070-b82c-b1fcd4f08564",
   "metadata": {
    "tags": []
   },
   "outputs": [],
   "source": [
    "# select the assigned cotton fields ('1')\n",
    "cotton_fields= TXGA_crops[TXGA_crops['Cotton']==1].reset_index(drop= True)"
   ]
  },
  {
   "cell_type": "code",
   "execution_count": 8,
   "id": "d6c2287f-529b-47e0-92de-448e489036a6",
   "metadata": {
    "tags": []
   },
   "outputs": [],
   "source": [
    "# creates a function that assigns the state name to each district. This will be used in naming the final files\n",
    "# NB: the State Federal Information Processing Standard (FIPS) code for TX and GA is 48 and 13 respectively\n",
    "def assign_state(row):\n",
    "    if row['STATEFP']== '48':\n",
    "        return 'TX'\n",
    "    else:\n",
    "        return 'GA'\n",
    "    \n",
    "    \n",
    "# apply the function to creates a new column 'St_NAME' that assigns a state name to each district\n",
    "NASS_districts['St_NAME']= NASS_districts.apply(assign_state, axis= 1)"
   ]
  },
  {
   "cell_type": "code",
   "execution_count": null,
   "id": "3a9c5264-454c-4c59-a6a3-113a412c2ef5",
   "metadata": {},
   "outputs": [],
   "source": [
    "# --------------------------------\n",
    "# Selects cotton fields within each district and exports a cotton mask shapefile/geoparquet for each district\n",
    "# --------------------------------\n",
    "\n",
    "\n",
    "# we are about to do a spatial join, so\n",
    "# ensure the same crs schema for both geodataframes\n",
    "NASS_districts = NASS_districts.to_crs(cotton_fields.crs)\n",
    "\n",
    "# create a folder to store the output files\n",
    "output_dir = \"per_district\"\n",
    "os.makedirs(output_dir)\n",
    "\n",
    "# spatial join: \n",
    "# match the cotton field polygons with the NASS districts they fall within, and append the their attributes to their respective districts \n",
    "districts_cotton = gpd.sjoin(cotton_fields, NASS_districts, how='inner', predicate='within')\n",
    "\n",
    "# add a column to identify each district\n",
    "districts_cotton['Dist_NAME'] = districts_cotton['St_NAME'] + \"_\" + districts_cotton['NASS Dis_1']\n",
    "\n",
    "# select only the necessary columns\n",
    "nec_cols = ['Dist_NAME', 'CSBACRES', 'geometry']\n",
    "districts_cotton = districts_cotton[nec_cols]\n",
    "\n",
    "# save individual district files\n",
    "for district_name, group in districts_cotton.groupby('Dist_NAME'):\n",
    "    group.to_parquet(f\"per_district/{district_name}_CottonMask.geoparquet\")\n",
    "    # group.to_file(f\"per_district/{district_name}_CottonMask.shp\")  # uncomment if you want to save as a shapefile"
   ]
  },
  {
   "cell_type": "code",
   "execution_count": 35,
   "id": "cfb4ca54-b7bc-4444-9581-e5367c9a688f",
   "metadata": {},
   "outputs": [],
   "source": [
    "# fetch cotton mask data for each district\n",
    "files= glob.glob('per_district/*geoparquet')\n",
    "# files= glob.glob('per_district/*shp')  # uncomment this if you prefer using the shapefile\n",
    "\n",
    "# read them into geodataframes\n",
    "dist_cot_mask= [gpd.read_parquet(dist) for dist in files]"
   ]
  },
  {
   "cell_type": "code",
   "execution_count": 1,
   "id": "376a446c-4787-4281-92d0-ff6d84d66600",
   "metadata": {
    "tags": []
   },
   "outputs": [],
   "source": [
    "# --------------------------------\n",
    "# create an interactive map that shows the cotton mask of the first geodataframe in the list\n",
    "# --------------------------------\n",
    "\n",
    "\n",
    "# obtain the centroid of the first GeoDataFrame to determine the map's center\n",
    "centroid = dist_cot_mask[0].geometry.centroid.iloc[0]\n",
    "map_center = [centroid.y, centroid.x]\n",
    "\n",
    "# initialize the Folium map with the map_center and default OpenStreetMap tiles\n",
    "m = folium.Map(location=map_center, zoom_start=10)\n",
    "\n",
    "\n",
    "# overlay the cotton mask from the first GeoDataFrame onto the map\n",
    "folium.GeoJson(dist_cot_mask[0]).add_to(m)\n",
    "\n",
    "# add a layer control\n",
    "folium.LayerControl().add_to(m)\n",
    "\n",
    "# display the map\n",
    "m"
   ]
  },
  {
   "cell_type": "code",
   "execution_count": null,
   "id": "44ae9de2-c41e-4555-932d-87eee9f73d33",
   "metadata": {},
   "outputs": [],
   "source": []
  },
  {
   "cell_type": "code",
   "execution_count": null,
   "id": "1421ef76-91d6-410a-b774-be11e6e8b6d2",
   "metadata": {},
   "outputs": [],
   "source": []
  }
 ],
 "metadata": {
  "kernelspec": {
   "display_name": "TXGAAg_DEVSpring25",
   "language": "python",
   "name": "txgaag_devspring25"
  },
  "language_info": {
   "codemirror_mode": {
    "name": "ipython",
    "version": 3
   },
   "file_extension": ".py",
   "mimetype": "text/x-python",
   "name": "python",
   "nbconvert_exporter": "python",
   "pygments_lexer": "ipython3",
   "version": "3.11.0"
  }
 },
 "nbformat": 4,
 "nbformat_minor": 5
}
